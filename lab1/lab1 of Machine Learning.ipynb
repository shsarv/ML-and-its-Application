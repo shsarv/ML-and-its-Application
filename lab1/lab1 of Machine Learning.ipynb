{
 "cells": [
  {
   "cell_type": "markdown",
   "metadata": {},
   "source": [
    "# LAB 1 OF Machine Learning\n",
    "# Numpy Practice"
   ]
  },
  {
   "cell_type": "markdown",
   "metadata": {},
   "source": [
    "## by sarvesh kumar sharma\n",
    "## Section-A\n",
    "## Roll number 50"
   ]
  },
  {
   "cell_type": "code",
   "execution_count": 1,
   "metadata": {},
   "outputs": [],
   "source": [
    "import numpy as np"
   ]
  },
  {
   "cell_type": "markdown",
   "metadata": {},
   "source": [
    "#### Q1. Write a Numpy program to compute Multiplication of two Matrices."
   ]
  },
  {
   "cell_type": "code",
   "execution_count": 2,
   "metadata": {},
   "outputs": [
    {
     "data": {
      "text/plain": [
       "array([[5, 8, 9],\n",
       "       [1, 2, 3],\n",
       "       [3, 7, 4]])"
      ]
     },
     "execution_count": 2,
     "metadata": {},
     "output_type": "execute_result"
    }
   ],
   "source": [
    "a=np.array([[5,8,9],[1,2,3],[3,7,4]])\n",
    "a"
   ]
  },
  {
   "cell_type": "code",
   "execution_count": 3,
   "metadata": {},
   "outputs": [
    {
     "data": {
      "text/plain": [
       "array([[ 9,  1, 13],\n",
       "       [ 7,  6,  5],\n",
       "       [18, 11,  5]])"
      ]
     },
     "execution_count": 3,
     "metadata": {},
     "output_type": "execute_result"
    }
   ],
   "source": [
    "b=np.array([[9,1,13],[7,6,5],[18,11,5]])\n",
    "b"
   ]
  },
  {
   "cell_type": "code",
   "execution_count": 4,
   "metadata": {},
   "outputs": [
    {
     "name": "stdout",
     "output_type": "stream",
     "text": [
      "[[263 152 150]\n",
      " [ 77  46  38]\n",
      " [148  89  94]]\n"
     ]
    }
   ],
   "source": [
    "print(a.dot(b))"
   ]
  },
  {
   "cell_type": "markdown",
   "metadata": {},
   "source": [
    "#### Q2 Write a numpy program to Compute Outer product of two given vectors."
   ]
  },
  {
   "cell_type": "code",
   "execution_count": 5,
   "metadata": {},
   "outputs": [
    {
     "name": "stdout",
     "output_type": "stream",
     "text": [
      "[[ 45   5  65  35  30  25  90  55  25]\n",
      " [ 72   8 104  56  48  40 144  88  40]\n",
      " [ 81   9 117  63  54  45 162  99  45]\n",
      " [  9   1  13   7   6   5  18  11   5]\n",
      " [ 18   2  26  14  12  10  36  22  10]\n",
      " [ 27   3  39  21  18  15  54  33  15]\n",
      " [ 27   3  39  21  18  15  54  33  15]\n",
      " [ 63   7  91  49  42  35 126  77  35]\n",
      " [ 36   4  52  28  24  20  72  44  20]]\n"
     ]
    }
   ],
   "source": [
    "print(np.outer(a,b))"
   ]
  },
  {
   "cell_type": "markdown",
   "metadata": {},
   "source": [
    "#### Q3- Write a NumPy program to compute the cross product of two given vectors."
   ]
  },
  {
   "cell_type": "code",
   "execution_count": 6,
   "metadata": {},
   "outputs": [
    {
     "name": "stdout",
     "output_type": "stream",
     "text": [
      "[[ 95  16 -67]\n",
      " [ -8  16  -8]\n",
      " [ -9  57 -93]]\n"
     ]
    }
   ],
   "source": [
    "print(np.cross(a,b))"
   ]
  },
  {
   "cell_type": "markdown",
   "metadata": {},
   "source": [
    "#### 4. Write a NumPy program to compute the determinant of a given square array."
   ]
  },
  {
   "cell_type": "code",
   "execution_count": 7,
   "metadata": {},
   "outputs": [
    {
     "name": "stdout",
     "output_type": "stream",
     "text": [
      "-15.999999999999991\n"
     ]
    }
   ],
   "source": [
    "print(np.linalg.det(a))"
   ]
  },
  {
   "cell_type": "markdown",
   "metadata": {},
   "source": [
    "#### 5. Write a NumPy program to evaluate Einstein's summation convention of two given multidimensional arrays. "
   ]
  },
  {
   "cell_type": "code",
   "execution_count": 8,
   "metadata": {},
   "outputs": [
    {
     "name": "stdout",
     "output_type": "stream",
     "text": [
      "[[263 152 150]\n",
      " [ 77  46  38]\n",
      " [148  89  94]]\n"
     ]
    }
   ],
   "source": [
    "print(np.einsum(\"pq,qr\",a,b))"
   ]
  },
  {
   "cell_type": "markdown",
   "metadata": {},
   "source": [
    "#### 6. Write a NumPy program to compute the inner product of vectors for 1-D arrays (without complex conjugation) and in higher dimension."
   ]
  },
  {
   "cell_type": "code",
   "execution_count": 9,
   "metadata": {},
   "outputs": [
    {
     "name": "stdout",
     "output_type": "stream",
     "text": [
      "74\n"
     ]
    }
   ],
   "source": [
    "x=np.array([2,3,4])\n",
    "y=np.array([7,8,9])\n",
    "#print \n",
    "print(np.inner(x,y))"
   ]
  },
  {
   "cell_type": "code",
   "execution_count": 10,
   "metadata": {},
   "outputs": [
    {
     "name": "stdout",
     "output_type": "stream",
     "text": [
      "[[170 128 223]\n",
      " [ 50  34  55]\n",
      " [ 86  83 151]]\n"
     ]
    }
   ],
   "source": [
    "print(np.inner(a,b))"
   ]
  },
  {
   "cell_type": "markdown",
   "metadata": {},
   "source": [
    "#### 7. Write a NumPy program to compute the eigenvalues and right eigenvectors of a given square array. "
   ]
  },
  {
   "cell_type": "code",
   "execution_count": 13,
   "metadata": {
    "scrolled": true
   },
   "outputs": [
    {
     "name": "stdout",
     "output_type": "stream",
     "text": [
      "value [25.64139777 -8.32551659  2.68411881]\n",
      "vector [[-0.5815023  -0.60064518  0.52959826]\n",
      " [-0.38911607  0.01449123 -0.82581921]\n",
      " [-0.71445347  0.79938437 -0.19377388]]\n"
     ]
    }
   ],
   "source": [
    "value,vector=np.linalg.eig(b)\n",
    "print(\"value\",value)\n",
    "print(\"vector\",vector)"
   ]
  },
  {
   "cell_type": "markdown",
   "metadata": {},
   "source": [
    "#### 8. Write a NumPy program to compute the Kronecker product of two given mulitdimension arrays. "
   ]
  },
  {
   "cell_type": "code",
   "execution_count": 14,
   "metadata": {
    "scrolled": true
   },
   "outputs": [
    {
     "name": "stdout",
     "output_type": "stream",
     "text": [
      "[[ 45   5  65  72   8 104  81   9 117]\n",
      " [ 35  30  25  56  48  40  63  54  45]\n",
      " [ 90  55  25 144  88  40 162  99  45]\n",
      " [  9   1  13  18   2  26  27   3  39]\n",
      " [  7   6   5  14  12  10  21  18  15]\n",
      " [ 18  11   5  36  22  10  54  33  15]\n",
      " [ 27   3  39  63   7  91  36   4  52]\n",
      " [ 21  18  15  49  42  35  28  24  20]\n",
      " [ 54  33  15 126  77  35  72  44  20]]\n"
     ]
    }
   ],
   "source": [
    "print(np.kron(a,b))"
   ]
  },
  {
   "cell_type": "markdown",
   "metadata": {},
   "source": [
    "#### 9. Write a NumPy program to compute the condition number of a given matrix. "
   ]
  },
  {
   "cell_type": "code",
   "execution_count": 15,
   "metadata": {},
   "outputs": [
    {
     "name": "stdout",
     "output_type": "stream",
     "text": [
      "36.530329474288926\n"
     ]
    }
   ],
   "source": [
    "print(np.linalg.cond(a))"
   ]
  },
  {
   "cell_type": "markdown",
   "metadata": {},
   "source": [
    "#### 10. Write a NumPy program to find a matrix or vector norm. "
   ]
  },
  {
   "cell_type": "code",
   "execution_count": 16,
   "metadata": {},
   "outputs": [
    {
     "name": "stdout",
     "output_type": "stream",
     "text": [
      "28.827070610799147\n"
     ]
    }
   ],
   "source": [
    "print(np.linalg.norm(b))"
   ]
  },
  {
   "cell_type": "markdown",
   "metadata": {},
   "source": [
    "#### 11. Write a NumPy program to compute the determinant of an array. "
   ]
  },
  {
   "cell_type": "code",
   "execution_count": 17,
   "metadata": {},
   "outputs": [
    {
     "name": "stdout",
     "output_type": "stream",
     "text": [
      "-15.999999999999991\n"
     ]
    }
   ],
   "source": [
    "print(np.linalg.det(a))"
   ]
  },
  {
   "cell_type": "markdown",
   "metadata": {},
   "source": [
    "#### 12. Write a NumPy program to compute the inverse of a given matrix. "
   ]
  },
  {
   "cell_type": "code",
   "execution_count": 18,
   "metadata": {},
   "outputs": [
    {
     "name": "stdout",
     "output_type": "stream",
     "text": [
      "[[ 0.04363002 -0.2408377   0.12739965]\n",
      " [-0.09598604  0.32984293 -0.08027923]\n",
      " [ 0.05410122  0.14136126 -0.08202443]]\n"
     ]
    }
   ],
   "source": [
    "print(np.linalg.inv(b))"
   ]
  },
  {
   "cell_type": "markdown",
   "metadata": {},
   "source": [
    "#### 13. Write a NumPy program to calculate the QR decomposition of a given matrix."
   ]
  },
  {
   "cell_type": "code",
   "execution_count": 19,
   "metadata": {},
   "outputs": [
    {
     "name": "stdout",
     "output_type": "stream",
     "text": [
      "(array([[-0.84515425,  0.52704628,  0.08908708],\n",
      "       [-0.16903085, -0.10540926, -0.97995789],\n",
      "       [-0.50709255, -0.84327404,  0.17817416]]), array([[ -5.91607978, -10.64894361, -10.14185106],\n",
      "       [  0.        ,  -1.8973666 ,   1.05409255],\n",
      "       [  0.        ,   0.        ,  -1.42539329]]))\n"
     ]
    }
   ],
   "source": [
    "print(np.linalg.qr(a))"
   ]
  },
  {
   "cell_type": "markdown",
   "metadata": {},
   "source": [
    "#### 14. Write a NumPy program to compute the condition number of a given matrix."
   ]
  },
  {
   "cell_type": "code",
   "execution_count": 20,
   "metadata": {},
   "outputs": [
    {
     "name": "stdout",
     "output_type": "stream",
     "text": [
      "12.616439724455784\n"
     ]
    }
   ],
   "source": [
    "print(np.linalg.cond(b))"
   ]
  },
  {
   "cell_type": "markdown",
   "metadata": {},
   "source": [
    "#### 15. Write a NumPy program to compute the sum of the diagonal element of a given array. "
   ]
  },
  {
   "cell_type": "code",
   "execution_count": 21,
   "metadata": {},
   "outputs": [
    {
     "name": "stdout",
     "output_type": "stream",
     "text": [
      "11\n"
     ]
    }
   ],
   "source": [
    "print(np.trace(a))"
   ]
  },
  {
   "cell_type": "markdown",
   "metadata": {},
   "source": [
    "## Thank you"
   ]
  }
 ],
 "metadata": {
  "kernelspec": {
   "display_name": "Python 3",
   "language": "python",
   "name": "python3"
  },
  "language_info": {
   "codemirror_mode": {
    "name": "ipython",
    "version": 3
   },
   "file_extension": ".py",
   "mimetype": "text/x-python",
   "name": "python",
   "nbconvert_exporter": "python",
   "pygments_lexer": "ipython3",
   "version": "3.7.6"
  }
 },
 "nbformat": 4,
 "nbformat_minor": 4
}
